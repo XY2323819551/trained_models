{
  "cells": [
    {
      "cell_type": "markdown",
      "metadata": {
        "id": "Zny8982jpQ9O"
      },
      "source": [
        "This notebook estimates the memory consumption of transformer models for fine-tuning and inference.\n",
        "\n",
        "This is only an approximation of the total memory consumed by the model with a basic inference/fine-tuned framework without any particular optimization.\n",
        "\n",
        "To get the estimation, run all the cells.\n",
        "\n",
        "First, if you want to estimate the memory consumption of recent models, make sure you are using the last version of Hugging Face transformers.\n",
        "\n",
        "In the following interactive cell, enter the name of the model. It can be the name of the repository on the Hugging Face Hub or a local path.\n",
        "This cell retrieves the architecture of the model.\n"
      ]
    },
    {
      "cell_type": "code",
      "execution_count": null,
      "metadata": {
        "colab": {
          "base_uri": "https://localhost:8080/",
          "height": 118,
          "referenced_widgets": [
            "084757275e0b4c26a58c33cc3be94b13",
            "24a942e284f045bf8cd67a8ff2511c5f",
            "e373e3c35a62448e9db30138c73d1287",
            "a3cfa061dd31404fb250a06f90963dfd",
            "23069986a1ea41eab1f8df08b47a0802",
            "b93cdc2faa12451daa88a9f7ffb57c34",
            "861756c6107d4b07929fb2c6ecaa452b",
            "32683da2a4774516b3618ab28a0fdeb2",
            "8178feb347544099803bca7850d5a8aa",
            "d660471042864102b127bf4e80d6d98c",
            "a40e586b8c3a4f7d95a069c53ed72144"
          ]
        },
        "id": "PAaucRvmmf0F",
        "outputId": "043da3fa-abb9-4a3d-c744-87491fd439ed"
      },
      "outputs": [
        {
          "data": {
            "application/vnd.jupyter.widget-view+json": {
              "model_id": "084757275e0b4c26a58c33cc3be94b13",
              "version_major": 2,
              "version_minor": 0
            },
            "text/plain": [
              "config.json:   0%|          | 0.00/687 [00:00<?, ?B/s]"
            ]
          },
          "metadata": {},
          "output_type": "display_data"
        },
        {
          "name": "stdout",
          "output_type": "stream",
          "text": [
            "Model: CohereForAI/c4ai-command-r-plus\n",
            "Hidden layers (L): 64\n",
            "Hidden size (h): 12288\n",
            "Attention heads (a): 96\n"
          ]
        }
      ],
      "source": [
        "from transformers import AutoConfig\n",
        "\n",
        "model_name = \"CohereForAI/c4ai-command-r-plus\" # @param {type:\"string\"}\n",
        "\n",
        "model_config = AutoConfig.from_pretrained(model_name)\n",
        "\n",
        "hidden_layers = model_config.num_hidden_layers\n",
        "hidden_size =  model_config.hidden_size\n",
        "attention_heads = model_config.num_attention_heads\n",
        "\n",
        "print(\"Model: \"+str(model_name))\n",
        "print(\"Hidden layers (L): \"+str(hidden_layers))\n",
        "print(\"Hidden size (h): \"+str(hidden_size))\n",
        "print(\"Attention heads (a): \"+str(attention_heads))\n"
      ]
    },
    {
      "cell_type": "markdown",
      "metadata": {
        "id": "rWkpPCD0GLuo"
      },
      "source": [
        "In the following interactive cell enter:\n",
        "- nb_billion_parameter: the number of parameters in the model, in billions. For instance, for Llama 3 8B enter 8.03 since the model has 8.03 billion parameters.\n",
        "- bitwidth_model: The number of bits per parameters. For instance 16, if you load the model with float16 or bfloat16.\n",
        "- bitwidth_optimizer: The number of bits per optimizer's parameter. This notebook assumes the use of the AdamW optimizer. If you use the standard implementation, set it to 32. If you use AdamW-8bit, set it to 8.\n",
        "- seqlen: The maximum sequence length in your batches.\n",
        "- batch_size: The number of instances in one batch."
      ]
    },
    {
      "cell_type": "code",
      "execution_count": null,
      "metadata": {
        "colab": {
          "base_uri": "https://localhost:8080/"
        },
        "id": "mMAwju0nKh3r",
        "outputId": "b165b412-98ba-4184-c2fe-af3486af6a36"
      },
      "outputs": [
        {
          "name": "stdout",
          "output_type": "stream",
          "text": [
            "Number of parameters in the model (n): 104B\n",
            "Bitwidth of the model's parameters (p): 16-bit\n",
            "Bitwidth of the optimizer's parameters (o): 32-bit\n",
            "Sequence length (s): 512\n",
            "Batch size (b): 8\n"
          ]
        }
      ],
      "source": [
        "# Number of parameters in the model (in billions)\n",
        "nb_billion_parameters = 104 # @param {type:\"number\"}\n",
        "print(\"Number of parameters in the model (n): \"+str(nb_billion_parameters)+\"B\")\n",
        "\n",
        "# Precision of the parameters in the model\n",
        "bitwidth_model = 16 # @param {type:\"integer\"}\n",
        "print(\"Bitwidth of the model's parameters (p): \"+str(bitwidth_model)+\"-bit\")\n",
        "\n",
        "# Precision of the parameters in the optimizer\n",
        "bitwidth_optimizer = 32 # @param {type:\"integer\"}\n",
        "print(\"Bitwidth of the optimizer's parameters (o): \"+str(bitwidth_optimizer)+\"-bit\")\n",
        "\n",
        "# The maximum number of tokens in a sequence\n",
        "seqlen = 512 # @param {type:\"integer\"}\n",
        "print(\"Sequence length (s): \"+str(seqlen))\n",
        "\n",
        "# The batch size\n",
        "batch_size = 8 # @param {type:\"integer\"}\n",
        "print(\"Batch size (b): \"+str(batch_size))\n"
      ]
    },
    {
      "cell_type": "markdown",
      "metadata": {
        "id": "9MOm8LVQHm_i"
      },
      "source": [
        "Run the following cell to get the estimation given the information provided in the previous cells."
      ]
    },
    {
      "cell_type": "code",
      "execution_count": null,
      "metadata": {
        "colab": {
          "base_uri": "https://localhost:8080/"
        },
        "id": "tgSFQfZcOEKx",
        "outputId": "584d5d61-cea7-4c39-b217-b4a563052dcb"
      },
      "outputs": [
        {
          "name": "stdout",
          "output_type": "stream",
          "text": [
            "Memory consumption of the model: 193.72 GB\n",
            "\n",
            "Memory consumption of the optimizer: 774.86 GB\n",
            "Memory consumption of activations for fine-tuning: 323.84 GB\n",
            "Total memory consumption for fine-tuning: 1292.42 GB\n",
            "\n",
            "Memory consumption of activations for inference: 5.06 GB\n",
            "Total memory consumption for inference: 198.78 GB\n"
          ]
        }
      ],
      "source": [
        "def estimate_consumption():\n",
        "  # 34sbh + 5as²b\n",
        "  return round((34*seqlen*batch_size*hidden_size + 5*attention_heads*seqlen*seqlen*batch_size)*2/(1024**3),2)\n",
        "\n",
        "def estimate_optimizer_size():\n",
        "  return round((2*nb_billion_parameters*bitwidth_optimizer/8*(1000**3))/(1024**3),2)\n",
        "\n",
        "def estimate_model_size():\n",
        "  return round(nb_billion_parameters*bitwidth_model/8*(1000**3)/(1024**3),2)\n",
        "\n",
        "activation_consumption = estimate_consumption()\n",
        "model_consumption = estimate_model_size()\n",
        "optimizer_consumption = estimate_optimizer_size()\n",
        "\n",
        "print(\"Memory consumption of the model: \"+str(model_consumption)+\" GB\\n\")\n",
        "\n",
        "print(\"Memory consumption of the optimizer: \"+str(optimizer_consumption)+\" GB\")\n",
        "print(\"Memory consumption of activations for fine-tuning: \"+str(activation_consumption*hidden_layers)+\" GB\")\n",
        "print(\"Total memory consumption for fine-tuning: \"+str(model_consumption+optimizer_consumption+activation_consumption*hidden_layers)+\" GB\\n\")\n",
        "\n",
        "print(\"Memory consumption of activations for inference: \"+str(activation_consumption)+\" GB\")\n",
        "print(\"Total memory consumption for inference: \"+str(model_consumption+activation_consumption)+\" GB\")\n"
      ]
    }
  ],
  "metadata": {
    "colab": {
      "provenance": []
    },
    "kernelspec": {
      "display_name": "Python 3",
      "name": "python3"
    },
    "language_info": {
      "name": "python"
    },
    "widgets": {
      "application/vnd.jupyter.widget-state+json": {
        "084757275e0b4c26a58c33cc3be94b13": {
          "model_module": "@jupyter-widgets/controls",
          "model_module_version": "1.5.0",
          "model_name": "HBoxModel",
          "state": {
            "_dom_classes": [],
            "_model_module": "@jupyter-widgets/controls",
            "_model_module_version": "1.5.0",
            "_model_name": "HBoxModel",
            "_view_count": null,
            "_view_module": "@jupyter-widgets/controls",
            "_view_module_version": "1.5.0",
            "_view_name": "HBoxView",
            "box_style": "",
            "children": [
              "IPY_MODEL_24a942e284f045bf8cd67a8ff2511c5f",
              "IPY_MODEL_e373e3c35a62448e9db30138c73d1287",
              "IPY_MODEL_a3cfa061dd31404fb250a06f90963dfd"
            ],
            "layout": "IPY_MODEL_23069986a1ea41eab1f8df08b47a0802"
          }
        },
        "23069986a1ea41eab1f8df08b47a0802": {
          "model_module": "@jupyter-widgets/base",
          "model_module_version": "1.2.0",
          "model_name": "LayoutModel",
          "state": {
            "_model_module": "@jupyter-widgets/base",
            "_model_module_version": "1.2.0",
            "_model_name": "LayoutModel",
            "_view_count": null,
            "_view_module": "@jupyter-widgets/base",
            "_view_module_version": "1.2.0",
            "_view_name": "LayoutView",
            "align_content": null,
            "align_items": null,
            "align_self": null,
            "border": null,
            "bottom": null,
            "display": null,
            "flex": null,
            "flex_flow": null,
            "grid_area": null,
            "grid_auto_columns": null,
            "grid_auto_flow": null,
            "grid_auto_rows": null,
            "grid_column": null,
            "grid_gap": null,
            "grid_row": null,
            "grid_template_areas": null,
            "grid_template_columns": null,
            "grid_template_rows": null,
            "height": null,
            "justify_content": null,
            "justify_items": null,
            "left": null,
            "margin": null,
            "max_height": null,
            "max_width": null,
            "min_height": null,
            "min_width": null,
            "object_fit": null,
            "object_position": null,
            "order": null,
            "overflow": null,
            "overflow_x": null,
            "overflow_y": null,
            "padding": null,
            "right": null,
            "top": null,
            "visibility": null,
            "width": null
          }
        },
        "24a942e284f045bf8cd67a8ff2511c5f": {
          "model_module": "@jupyter-widgets/controls",
          "model_module_version": "1.5.0",
          "model_name": "HTMLModel",
          "state": {
            "_dom_classes": [],
            "_model_module": "@jupyter-widgets/controls",
            "_model_module_version": "1.5.0",
            "_model_name": "HTMLModel",
            "_view_count": null,
            "_view_module": "@jupyter-widgets/controls",
            "_view_module_version": "1.5.0",
            "_view_name": "HTMLView",
            "description": "",
            "description_tooltip": null,
            "layout": "IPY_MODEL_b93cdc2faa12451daa88a9f7ffb57c34",
            "placeholder": "​",
            "style": "IPY_MODEL_861756c6107d4b07929fb2c6ecaa452b",
            "value": "config.json: 100%"
          }
        },
        "32683da2a4774516b3618ab28a0fdeb2": {
          "model_module": "@jupyter-widgets/base",
          "model_module_version": "1.2.0",
          "model_name": "LayoutModel",
          "state": {
            "_model_module": "@jupyter-widgets/base",
            "_model_module_version": "1.2.0",
            "_model_name": "LayoutModel",
            "_view_count": null,
            "_view_module": "@jupyter-widgets/base",
            "_view_module_version": "1.2.0",
            "_view_name": "LayoutView",
            "align_content": null,
            "align_items": null,
            "align_self": null,
            "border": null,
            "bottom": null,
            "display": null,
            "flex": null,
            "flex_flow": null,
            "grid_area": null,
            "grid_auto_columns": null,
            "grid_auto_flow": null,
            "grid_auto_rows": null,
            "grid_column": null,
            "grid_gap": null,
            "grid_row": null,
            "grid_template_areas": null,
            "grid_template_columns": null,
            "grid_template_rows": null,
            "height": null,
            "justify_content": null,
            "justify_items": null,
            "left": null,
            "margin": null,
            "max_height": null,
            "max_width": null,
            "min_height": null,
            "min_width": null,
            "object_fit": null,
            "object_position": null,
            "order": null,
            "overflow": null,
            "overflow_x": null,
            "overflow_y": null,
            "padding": null,
            "right": null,
            "top": null,
            "visibility": null,
            "width": null
          }
        },
        "8178feb347544099803bca7850d5a8aa": {
          "model_module": "@jupyter-widgets/controls",
          "model_module_version": "1.5.0",
          "model_name": "ProgressStyleModel",
          "state": {
            "_model_module": "@jupyter-widgets/controls",
            "_model_module_version": "1.5.0",
            "_model_name": "ProgressStyleModel",
            "_view_count": null,
            "_view_module": "@jupyter-widgets/base",
            "_view_module_version": "1.2.0",
            "_view_name": "StyleView",
            "bar_color": null,
            "description_width": ""
          }
        },
        "861756c6107d4b07929fb2c6ecaa452b": {
          "model_module": "@jupyter-widgets/controls",
          "model_module_version": "1.5.0",
          "model_name": "DescriptionStyleModel",
          "state": {
            "_model_module": "@jupyter-widgets/controls",
            "_model_module_version": "1.5.0",
            "_model_name": "DescriptionStyleModel",
            "_view_count": null,
            "_view_module": "@jupyter-widgets/base",
            "_view_module_version": "1.2.0",
            "_view_name": "StyleView",
            "description_width": ""
          }
        },
        "a3cfa061dd31404fb250a06f90963dfd": {
          "model_module": "@jupyter-widgets/controls",
          "model_module_version": "1.5.0",
          "model_name": "HTMLModel",
          "state": {
            "_dom_classes": [],
            "_model_module": "@jupyter-widgets/controls",
            "_model_module_version": "1.5.0",
            "_model_name": "HTMLModel",
            "_view_count": null,
            "_view_module": "@jupyter-widgets/controls",
            "_view_module_version": "1.5.0",
            "_view_name": "HTMLView",
            "description": "",
            "description_tooltip": null,
            "layout": "IPY_MODEL_d660471042864102b127bf4e80d6d98c",
            "placeholder": "​",
            "style": "IPY_MODEL_a40e586b8c3a4f7d95a069c53ed72144",
            "value": " 687/687 [00:00&lt;00:00, 13.6kB/s]"
          }
        },
        "a40e586b8c3a4f7d95a069c53ed72144": {
          "model_module": "@jupyter-widgets/controls",
          "model_module_version": "1.5.0",
          "model_name": "DescriptionStyleModel",
          "state": {
            "_model_module": "@jupyter-widgets/controls",
            "_model_module_version": "1.5.0",
            "_model_name": "DescriptionStyleModel",
            "_view_count": null,
            "_view_module": "@jupyter-widgets/base",
            "_view_module_version": "1.2.0",
            "_view_name": "StyleView",
            "description_width": ""
          }
        },
        "b93cdc2faa12451daa88a9f7ffb57c34": {
          "model_module": "@jupyter-widgets/base",
          "model_module_version": "1.2.0",
          "model_name": "LayoutModel",
          "state": {
            "_model_module": "@jupyter-widgets/base",
            "_model_module_version": "1.2.0",
            "_model_name": "LayoutModel",
            "_view_count": null,
            "_view_module": "@jupyter-widgets/base",
            "_view_module_version": "1.2.0",
            "_view_name": "LayoutView",
            "align_content": null,
            "align_items": null,
            "align_self": null,
            "border": null,
            "bottom": null,
            "display": null,
            "flex": null,
            "flex_flow": null,
            "grid_area": null,
            "grid_auto_columns": null,
            "grid_auto_flow": null,
            "grid_auto_rows": null,
            "grid_column": null,
            "grid_gap": null,
            "grid_row": null,
            "grid_template_areas": null,
            "grid_template_columns": null,
            "grid_template_rows": null,
            "height": null,
            "justify_content": null,
            "justify_items": null,
            "left": null,
            "margin": null,
            "max_height": null,
            "max_width": null,
            "min_height": null,
            "min_width": null,
            "object_fit": null,
            "object_position": null,
            "order": null,
            "overflow": null,
            "overflow_x": null,
            "overflow_y": null,
            "padding": null,
            "right": null,
            "top": null,
            "visibility": null,
            "width": null
          }
        },
        "d660471042864102b127bf4e80d6d98c": {
          "model_module": "@jupyter-widgets/base",
          "model_module_version": "1.2.0",
          "model_name": "LayoutModel",
          "state": {
            "_model_module": "@jupyter-widgets/base",
            "_model_module_version": "1.2.0",
            "_model_name": "LayoutModel",
            "_view_count": null,
            "_view_module": "@jupyter-widgets/base",
            "_view_module_version": "1.2.0",
            "_view_name": "LayoutView",
            "align_content": null,
            "align_items": null,
            "align_self": null,
            "border": null,
            "bottom": null,
            "display": null,
            "flex": null,
            "flex_flow": null,
            "grid_area": null,
            "grid_auto_columns": null,
            "grid_auto_flow": null,
            "grid_auto_rows": null,
            "grid_column": null,
            "grid_gap": null,
            "grid_row": null,
            "grid_template_areas": null,
            "grid_template_columns": null,
            "grid_template_rows": null,
            "height": null,
            "justify_content": null,
            "justify_items": null,
            "left": null,
            "margin": null,
            "max_height": null,
            "max_width": null,
            "min_height": null,
            "min_width": null,
            "object_fit": null,
            "object_position": null,
            "order": null,
            "overflow": null,
            "overflow_x": null,
            "overflow_y": null,
            "padding": null,
            "right": null,
            "top": null,
            "visibility": null,
            "width": null
          }
        },
        "e373e3c35a62448e9db30138c73d1287": {
          "model_module": "@jupyter-widgets/controls",
          "model_module_version": "1.5.0",
          "model_name": "FloatProgressModel",
          "state": {
            "_dom_classes": [],
            "_model_module": "@jupyter-widgets/controls",
            "_model_module_version": "1.5.0",
            "_model_name": "FloatProgressModel",
            "_view_count": null,
            "_view_module": "@jupyter-widgets/controls",
            "_view_module_version": "1.5.0",
            "_view_name": "ProgressView",
            "bar_style": "success",
            "description": "",
            "description_tooltip": null,
            "layout": "IPY_MODEL_32683da2a4774516b3618ab28a0fdeb2",
            "max": 687,
            "min": 0,
            "orientation": "horizontal",
            "style": "IPY_MODEL_8178feb347544099803bca7850d5a8aa",
            "value": 687
          }
        }
      }
    }
  },
  "nbformat": 4,
  "nbformat_minor": 0
}
